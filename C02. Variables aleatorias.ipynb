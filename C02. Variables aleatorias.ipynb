{
 "cells": [
  {
   "cell_type": "markdown",
   "metadata": {},
   "source": [
    "<img src=\"logo.png\">"
   ]
  },
  {
   "cell_type": "markdown",
   "metadata": {},
   "source": [
    "# C02. Variables aleatorias.\n",
    "\n",
    "\n",
    "Una **variable aleatoria** es una manera de asignar números a los eventos que pueden suceder durante un experimento, medición o fenómeno (formalmente es una función medible $f:X\\to\\mathbb{R}$, donde $(X,\\mathcal{F},P)$ es un espacio de probabilidad) ."
   ]
  },
  {
   "cell_type": "markdown",
   "metadata": {},
   "source": [
    "**Ejemplo**\n",
    "\n",
    "1) Los números de lista de un salón. Esa es una variable aleatoria.\n",
    "\n",
    "2) Las estaturas de las personas inscritas en SciData.\n",
    "\n",
    "3) La regla dada de la siguiente manera: si se lanza una moneda, puede caer cara o cruz. Si cae cara escribimos un 0 y si cae cruz escribimos un 1.\n",
    "\n",
    "4) El número de puntos que se obtienen al lanzar un dado.\n",
    "\n",
    "5) Temperatura cuando se manipula la fricción al frotar dos rocas.\n",
    "\n",
    "6) El número de personas que se acercan, por decisión propia, a un hospital para hacerse la prueba por COVID-19\n"
   ]
  },
  {
   "cell_type": "markdown",
   "metadata": {},
   "source": [
    "## Tipos de variables aleatorias\n",
    "\n",
    "Las podemos clasificar en general como *discretas* y *continuas*. El caso discreto es cuando hacemos conteo y el continuo cuando hacemos mediciones (informalmente, es discreta cuando el total de resultados posibles es un conjunto discreto o contable, y es continua cuando el total de resultados posibles no es contable).\n",
    "\n",
    "*Notación:* las variables aleatorias suelen representarse con una letra mayúscula. \n",
    "\n",
    "\n",
    "Las variables aleatorias usualmente, aunque hay casos excepcionales pero que no aparecen en la práctica, tiene asociados dos parámetros muy importantes: la media (o esperanza) y la varianza. "
   ]
  },
  {
   "cell_type": "markdown",
   "metadata": {},
   "source": [
    "**Función de distribución y función de densidad**.\n",
    "\n",
    "Sea $X$ una variable aleatoria. La *función de distribución* de $X$, que es denotada por $F_X$, se define como $F_X(x)=P(X\\le x)$.\n",
    "\n",
    "*Ejemplo 1)* Se lanza un dado de seis caras justo (es decir, que todas las caras tienen probabilidad de $1/6$). Sea $X$ la variable aleatoria dada por $X=\\#$ *puntos que indique el dado*. Así, $x_1=1$, $x_2=2$, $x_3=3$, etc, y $P(X=x_i)=\\frac{1}{6}$ para cualquier $i\\in\\{1,2,3,4,5,6\\}$.\n",
    "\n",
    "En este caso, $F_X(x)=P(X\\le x)$ por definición. Así, $F_X(3)=P(X\\le 3)=P(X=1)+P(X=2)+P(X=3)=\\frac{3}{6}=\\frac{1}{2}$.\n",
    "\n",
    "En el caso discreto, se define la *función de densidad* como $f_X(x)=P(X=x)$. \n",
    "\n",
    "En el caso continuo, se define la *función de densidad* como $f_X(x)=F_X^\\prime(x)$.\n",
    "\n",
    "**Propiedades:**\n",
    "\n",
    "\n",
    "1) $0\\le F_X(x)\\le 1$.\n",
    "\n",
    "2) $F_X$ es creciente y continua por la derecha. Esto significa que si $x\\le y$ entonces $F_X(x)\\le F_Y(y)$.\n",
    "\n",
    "3) $\\lim_{x\\to\\infty}F_X(x)=1$ y $\\lim_{x\\to-\\infty}F_X(x)=0$\n",
    "\n",
    "4) $F_X(x)=P(X\\le x)=\\int_{-\\infty}^xf_X(y)\\,\\mathrm{d}y$ si $X$ es continua. Y si $X$ es discreta entonces $F_X(x)=\\sum_{k\\le x}f_X(x)$."
   ]
  },
  {
   "cell_type": "markdown",
   "metadata": {},
   "source": [
    "**Caso discreto** Si $X$ es una variable aleatoria discreta con posibles resultados $x_1,x_2,x_3\\cdots$. Se define la *media de $X$*, o también llamada esperanza de $X$, como $$E[X]=\\sum_{i=1}x_i P(X=x_i)=x_1\\cdot P(X=x_1)+x_2\\cdot P(X=x_2)+x_3\\cdot P(X=x_3)+\\cdots$$\n",
    "\n",
    "*Ejemplo 1)* Se lanza un dado de seis caras justo (es decir, que todas las caras tienen probabilidad de $1/6$). Sea $X$ la variable aleatoria dada por $X=\\#$ *puntos que indique el dado*. Así, $x_1=1$, $x_2=2$, $x_3=3$, etc, y $P(X=x_i)=\\frac{1}{6}$ para cualquier $i\\in\\{1,2,3,4,5,6\\}$.\n",
    "\n",
    "Bajo estas condiciones se tiene $$E[X]=\\sum_{i=1}x_i P(X=x_i)=\\sum_{i=1}i\\frac{1}{6}=\\frac{1}{6}\\sum_{i=1}i=\\frac{1+2+3+4+5+6}{6}=\\frac{21}{6}=\\frac{7}{2}$$\n",
    "\n",
    "\n",
    "*Ejemplo 2)* Se tiene una caja con 20 bolitas, donde 8 son rojas y 12 son blancas. Se selecciona una al azar. Sea $X$ la variable aleatoria dada por $X=0$ si la bola es roja y $X=1$ si la bola es blanca. ¿Cómo calculamos la esperanza de $X$ en este caso? \n",
    "\n",
    "Primero notemos que $P(X=0)=\\frac{8}{20}$ y $P(X=1)=\\frac{12}{20}$. Por lo tanto $$E[X]=0\\cdot P(X=0)+1\\cdot P(X=1)=\\frac{12}{20}=\\frac{3}{5}$$\n",
    "\n",
    "\n",
    "*Ejemplo 3)* Se tiene una caja con 20 bolitas, donde 8 son rojas y 12 son blancas. Se selecciona una al azar. Si esta es roja gano 5 USD y si es blanca no gano nada. Sea $X$ la variable aleatoria dada por $X=5$ si la bola es roja y $X=0$ si la bola es blanca. ¿Cómo calculamos la esperanza de $X$ en este caso? \n",
    "\n",
    "Primero notemos que $P(X=5)=\\frac{8}{20}$ y $P(X=0)=\\frac{12}{20}$. Por lo tanto $$E[X]=5\\cdot P(X=5)+0\\cdot P(X=0)=2$$\n",
    "\n",
    "*Ejemplo 4)* Se tiene una caja con 20 bolitas, donde 8 son rojas y 12 son blancas. Se selecciona una al azar. Si esta es roja gano 5 USD y si es blanca pierdo 2. Sea $X$ la variable aleatoria dada por $X=5$ si la bola es roja y $X=-2$ si la bola es blanca. ¿Cómo calculamos la esperanza de $X$ en este caso? \n",
    "\n",
    "Primero notemos que $P(X=5)=\\frac{8}{20}$ y $P(X=-2)=\\frac{12}{20}$. Por lo tanto $$E[X]=5\\cdot P(X=5)+(-2)\\cdot P(X=-2)=5\\cdot\\frac{8}{20}-2\\cdot\\frac{12}{20}=0.8$$\n",
    "\n",
    "\n"
   ]
  },
  {
   "cell_type": "markdown",
   "metadata": {},
   "source": [
    "**Caso continuo**\n",
    "\n",
    "Sea $X$ es una variable aleatoria continua con función de densidad $f_X(x)$. Se define la esperanza de $X$ como $$E[X]=\\int_{-\\infty}^\\infty xf_X(x)\\, \\mathrm{d}x$$"
   ]
  },
  {
   "cell_type": "markdown",
   "metadata": {},
   "source": [
    "*Observación:* Recordemos la definición de valor medio de una función continua en el intervalo $[a,b]$: es el número $$\\frac{\\int_a^bf(x)\\,\\mathrm{d}x}{b-a}. $$ Esta definición en Teoría de la Medida, se ve de la siguiente manera: $$\\frac{\\int_{[a,b]}f(x)\\mathrm{d}\\mu}{\\mu([a,b])}$$\n",
    "\n",
    "En particular para una variable aleatoria $X$ y $\\mu=P$ (una medida de probabilidad), lo anterior se ve como $$\\int_{[a,b]}X\\,\\mathrm{d}P$$"
   ]
  },
  {
   "cell_type": "markdown",
   "metadata": {},
   "source": [
    "**Ejemplo**\n",
    "\n",
    "1) Sea $f_X(x)$ dada por $f_X(x)=1$ si $x\\in[0,1]$ y $f_X(x)=0$ en otro caso. A esta $X$ se le conoce como *variable aleatoria uniforme en [0,1]* .  Así, podemos ver, por ejemplo, que $F_X(-3)=P(X\\le -3)=\\int_{-\\infty}^{-3}f_X(t)\\,\\mathrm{d}t=0$; $F_X(0.4)=P(X\\le 0.4)=\\int_{-\\infty}^{0.4}f_X(t)\\,\\mathrm{d}t=0.4$.\n",
    "\n",
    "$$E[X]=\\int_{-\\infty}^\\infty x f_X(x)\\mathrm{dx}=\\int_0^1 x\\,\\mathrm{d}x=\\frac{1}{2}$$\n",
    "\n"
   ]
  },
  {
   "cell_type": "markdown",
   "metadata": {},
   "source": [
    "### Varianza y desviación estándar\n",
    "\n",
    "Se define la varianza de una variable aleatoria $X$ como $Var(X)=E[(X-E[X])^2]=E[X^2]-E[X]^2$\n"
   ]
  },
  {
   "cell_type": "markdown",
   "metadata": {},
   "source": [
    "La desviación estándar se define como $\\sqrt{Var(X)}$"
   ]
  },
  {
   "cell_type": "markdown",
   "metadata": {},
   "source": [
    "## Independencia de variables aleatorias.\n",
    "\n",
    "Sean $X$ y $Y$ dos variables aleatorias. Se dice que son *independientes* si el resultado de una no afecta el resultado de la otra. Esto es $P(X\\in A,Y\\in B)=P(X\\in A)P(Y\\in B)$.\n",
    "\n",
    "Observación: Esto no significa que sean excluyentes."
   ]
  },
  {
   "cell_type": "markdown",
   "metadata": {},
   "source": [
    "**Bibliografía** \n",
    "\n",
    "1) Alexander Mood, Introducción a la estadística.\n",
    "\n",
    "2) Sheldon Ross, Un primer curso de probabilidad.\n",
    "\n",
    "3) Erwin Kreyszig, Introducción a la estadística.\n",
    "\n",
    "4) William Mendenhall, Introducción a la probabilidad y estadística. \n",
    "\n",
    "5) David Williams, Probabilidad y martingalas."
   ]
  }
 ],
 "metadata": {
  "kernelspec": {
   "display_name": "Python 3",
   "language": "python",
   "name": "python3"
  },
  "language_info": {
   "codemirror_mode": {
    "name": "ipython",
    "version": 3
   },
   "file_extension": ".py",
   "mimetype": "text/x-python",
   "name": "python",
   "nbconvert_exporter": "python",
   "pygments_lexer": "ipython3",
   "version": "3.7.7"
  }
 },
 "nbformat": 4,
 "nbformat_minor": 4
}
