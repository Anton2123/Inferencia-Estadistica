{
 "cells": [
  {
   "cell_type": "markdown",
   "metadata": {},
   "source": [
    "<img src=\"logo.png\">"
   ]
  },
  {
   "cell_type": "markdown",
   "metadata": {},
   "source": [
    "# C05.1 Estadísticos\n",
    "\n",
    "El problema usual de la Estadística Inferencial es:\n",
    "   * Queremos conocer el valor de una característica de la población\n",
    "   * No podemos medir esta característica en todos los individuos de la población\n",
    "   * Extraemos una muestra de la población, medimos la característica en los individuos de la muestra e inferimos el valor de la característica para toda la población.\n",
    "\n",
    "## Estadísticos\n",
    "\n",
    "Un estadístico, o estimador puntual, es una función que aplicada a una muestra nos permite estimar un valor que queramos conocer sobre toda la población. Por ejemplo, la media de las estaturas de los alumnos de este curso nos permite estimar la media de las estaturas de todos los alumnos de SciData. Una realización es el valor \"aterrizado\" de un estadístico (es decir, los valores que observamos cuando tomamos la muestra).\n",
    "\n",
    "**Ejemplo:** En este momento tenemos una población de 158 personas. Queremos estimar la estatura promedio. Sean $X_1,X_2,\\cdots,X_{10}$.  Un estadístico puede ser $f(X_1,X_2,\\cdots,X_{10})=\\frac{X_1+X_2+\\cdots+X_{10}}{10}$; pero otro estadístico es $g(X_1,X_2,\\cdots,X_{10})=\\max\\{X_1,X_2,\\cdots,X_{10}\\}$; $h(X_1,X_2,\\cdots,X_{10})=X_1$\n",
    "\n",
    "\n",
    "Estrictamente hablando, un estadístico es una función $f:2^X\\to\\mathbb{R}$ donde $X$ es la población.\n",
    "\n",
    "### m.a.s. de una variable aleatoria $X$.\n",
    "\n",
    "Una m.a.s. de tamaño $n$ de una variable aleatoria $X$ es un conjunto $X_1,\\cdots,X_n$ de variables aleatorias independientes que tienen la misma distribución que $X$\n",
    "\n",
    "\n"
   ]
  },
  {
   "cell_type": "markdown",
   "metadata": {},
   "source": [
    "### Media muestral\n",
    "\n",
    "La media muestral de un m.a.s. $X_1,X_2,\\cdots,X_n$ de una v.a. $X$ se define como $$\\overline{X}_n=\\frac{X_1+X_2+\\cdots+X_n}{n}.$$ Si $\\mu_X$ y $\\sigma_X$ son la media y la desviación de $X$, entonces $$E[\\overline{X}_n]=\\mu_X\\mbox{ y }\\sigma_{\\overline{X}_n}=\\frac{\\sigma_X}{\\sqrt{n}}.$$\n",
    "\n"
   ]
  },
  {
   "cell_type": "markdown",
   "metadata": {},
   "source": [
    "**Propiedades**\n",
    "\n",
    "* Es un estimador puntual de $\\mu_X$.\n",
    "\n",
    "* $E[\\overline{X}_n]$ es $\\mu_X$. Más aún, si tomamos una m.a.s. y calculamos la media muestral, el valor medio de estas medias muestrales *tiende con mucha probabilidad* a $\\mu_X$.\n",
    "\n",
    "* $\\sigma_{\\overline{X}_n}=\\frac{\\sigma_X}{\\sqrt{n}}$: la variabilidad de los resultados de $\\overline{X}_n$ tiende a 0 medida que las muestras son mas grandes."
   ]
  },
  {
   "cell_type": "markdown",
   "metadata": {},
   "source": [
    "**Ejemplo 1.** Consideremos iris. \n",
    "\n",
    "1) Generaremos 10000 muestras de tamaño 40 con reposición de las longitudes de pétalo.\n",
    "\n",
    "2) Hallaremos los valores medios de cada muestra.\n",
    "\n",
    "3) Consideraremos la media y la desviación de los valores medios hallados y los compararemos con los valores exactos."
   ]
  },
  {
   "cell_type": "code",
   "execution_count": 1,
   "metadata": {},
   "outputs": [
    {
     "data": {
      "text/html": [
       "3.754478"
      ],
      "text/latex": [
       "3.754478"
      ],
      "text/markdown": [
       "3.754478"
      ],
      "text/plain": [
       "[1] 3.754478"
      ]
     },
     "metadata": {},
     "output_type": "display_data"
    },
    {
     "data": {
      "text/html": [
       "3.758"
      ],
      "text/latex": [
       "3.758"
      ],
      "text/markdown": [
       "3.758"
      ],
      "text/plain": [
       "[1] 3.758"
      ]
     },
     "metadata": {},
     "output_type": "display_data"
    },
    {
     "data": {
      "text/html": [
       "0.279651256922886"
      ],
      "text/latex": [
       "0.279651256922886"
      ],
      "text/markdown": [
       "0.279651256922886"
      ],
      "text/plain": [
       "[1] 0.2796513"
      ]
     },
     "metadata": {},
     "output_type": "display_data"
    },
    {
     "data": {
      "text/html": [
       "0.279118158328556"
      ],
      "text/latex": [
       "0.279118158328556"
      ],
      "text/markdown": [
       "0.279118158328556"
      ],
      "text/plain": [
       "[1] 0.2791182"
      ]
     },
     "metadata": {},
     "output_type": "display_data"
    }
   ],
   "source": [
    "# Generar las 10000 muestras de tamaño 40 con reposición de las longitudes de pétalos.\n",
    "# replicate(n,expresión) evalúa n veces la expresión y organiza los resultados como las columnas de una matriz o un vector.\n",
    "\n",
    "set.seed(1001)\n",
    "\n",
    "vector_medias <- replicate(10000,mean(sample(iris$Petal.Length,40,replace = TRUE))) #calcula las medias de las 10000 muestras\n",
    "\n",
    "mean(vector_medias) #calcula el promedio de las medias tomadas\n",
    "mean(iris$Petal.Length) #calcula el promedio de la población de 150 flores\n",
    "\n",
    "sd(vector_medias) #calcula la desviación estándar de las medias tomadas (es decir, la muestral)\n",
    "sd(iris$Petal.Length)/sqrt(40) #calcula la desviación estándar de las  150 flores (es decir, la poblacional) y divide por sqrt(40)\n",
    "\n"
   ]
  },
  {
   "cell_type": "markdown",
   "metadata": {},
   "source": [
    "## Normales estandar\n",
    "\n",
    "Si $X\\sim N(0,1)$, se dice que $X$ es una distribución normal estandar. \n",
    "\n",
    "*Observación* Sea $X\\sim N(\\mu,\\sigma)$. Si definimos $Z$ como $$Z=\\frac{X-\\mu}{\\sigma},$$ entonces $Z\\sim N(0,1)$"
   ]
  },
  {
   "cell_type": "markdown",
   "metadata": {},
   "source": [
    "## De vuelta con las normales\n",
    "\n",
    "Si $X_1,\\cdots,X_n$ son una m.a.s de una v.a. $X\\sim N(\\mu_X,\\sigma_X)$, entonces $\\overline{X}_n\\sim N(\\mu_X,\\sigma_X/\\sqrt{n})$ y por lo tanto $$Z=\\frac{\\overline{X}_n-\\mu_X}{\\frac{\\sigma_X}{\\sqrt{n}}}\\sim N(0,1)$$"
   ]
  },
  {
   "cell_type": "markdown",
   "metadata": {},
   "source": [
    "## Teorema del Límite Central\n",
    "\n",
    "Sean $X_1,X_2,\\cdots,X_n$ variables aleatorias independientes e idénticamente distribuidas, con media $\\mu$ y desviación $\\sigma$. Para $n$ grande, tenemos que $\\overline{X}_n$ es aproximadamente $N\\left(\\mu,\\frac{\\sigma}{\\sqrt{n}}\\right)$. \n"
   ]
  },
  {
   "cell_type": "markdown",
   "metadata": {},
   "source": [
    "### Varianza muestral\n",
    "\n",
    "Sea $X_1,X_2,\\cdots,X_n$ una m.a.s. de tamaño $n$ de una v.a. $X$ de esperanza $\\mu$ y desviación $\\sigma$. La varianza muestral $$\\tilde{S_n^2}=\\frac{\\sum_{i=1}^n(X_i-\\overline{X}_n)^2}{n-1}.$$ La desviación estándar muestral (o error típico) se define como $\\tilde{S_n}=\\sqrt{\\tilde{S_n^2}}$.\n",
    "\n",
    "*Observación.* La varianza real se define como $$\\frac{\\sum_{i=1}^n(X_i-\\overline{X}_n)^2}{n}$$\n",
    "\n",
    "\n"
   ]
  },
  {
   "cell_type": "markdown",
   "metadata": {},
   "source": [
    "**Propiedades**\n",
    "\n",
    "Si $X$ es normal, entonces $E[\\tilde{S_X}^2]=\\sigma^2_X$ y $$\\frac{(n-1)\\tilde{S_X}^2}{\\sigma_X^2}\\sim\\chi^2_{n-1}$$\n",
    "\n",
    "    "
   ]
  },
  {
   "cell_type": "markdown",
   "metadata": {},
   "source": [
    "### Proporción muestral\n",
    "\n",
    "Sea $X$ una v.a. Bernoulli con probabilidad de éxito $p$ (1 es éxito y 0 es el fracaso). Sea $X_1,\\cdots,X_n$ una m.a.s. de tamaño $n$ de $X$. Sea $S_n=X_1+X_2+\\cdots+X_n$. Entonces $S_n\\sim Bin(n,p)$.\n",
    "\n",
    "La proporción muestral es $\\widehat{p}_X=\\frac{S_n}{n}$\n",
    "\n",
    "Tenemos\n",
    "\n",
    "* $E[\\widehat{p}_X]=p$\n",
    "\n",
    "* $\\sigma_{\\widehat{p}_X}=\\sqrt{\\frac{p(1-p)}{n}}$.\n",
    "\n",
    "\n",
    "Así, si $n$ es grande en un m.a.s. tenemos $$\\frac{\\widehat{p}_X-p}{\\sqrt{\\frac{p(1-p)}{n}}}\\sim N(0,1)$$\n",
    "\n",
    "\n",
    "\n",
    "\n"
   ]
  },
  {
   "cell_type": "markdown",
   "metadata": {},
   "source": [
    "**Ejemplo 2** Tomemos una muestra de 60 flores de iris. Estimar la proporción de setosas y estimar la desviación estándar de dicha proporción.\n",
    "\n"
   ]
  },
  {
   "cell_type": "code",
   "execution_count": null,
   "metadata": {},
   "outputs": [],
   "source": [
    "set.seed(1000)\n",
    "\n",
    "flores_elegidas <- sample(1:150,60,replace = TRUE)\n",
    "muestra <- iris[flores_elegidas,]\n",
    "\n",
    "table(muestra$Species == \"setosa\")\n",
    "\n",
    "p_muestral <- table(muestra$Species == \"setosa\")[2]/60\n",
    "\n",
    "p_muestral\n",
    "\n",
    "sqrt(p_muestral*(1-p_muestral)/60)\n",
    "\n",
    "\n"
   ]
  },
  {
   "cell_type": "markdown",
   "metadata": {},
   "source": [
    "## Estimadores Insesgados\n",
    "\n",
    "Un estimador puntual $\\widehat{\\theta}$ de un parámetro poblacional $\\theta$ es insesgado cuando $E[\\widehat{\\theta}]=\\theta$. El sesgo de $\\widehat{\\theta}$ se define como $E[\\widehat{\\theta}]-\\theta$.\n",
    "\n",
    "<img src=\"sesgo.png\">"
   ]
  }
 ],
 "metadata": {
  "kernelspec": {
   "display_name": "R",
   "language": "R",
   "name": "ir"
  },
  "language_info": {
   "codemirror_mode": "r",
   "file_extension": ".r",
   "mimetype": "text/x-r-source",
   "name": "R",
   "pygments_lexer": "r",
   "version": "3.6.1"
  }
 },
 "nbformat": 4,
 "nbformat_minor": 4
}
