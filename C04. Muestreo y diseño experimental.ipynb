{
 "cells": [
  {
   "cell_type": "markdown",
   "metadata": {},
   "source": [
    "<img src=\"logo.png\">"
   ]
  },
  {
   "cell_type": "markdown",
   "metadata": {},
   "source": [
    "# C04. Muestreo y diseño experimental\n",
    "\n",
    "¿Cómo podemos elegir los elementos que serán parte de nuestro estudio?\n",
    "\n",
    "Los pasos en un estudio inferencial son:\n",
    "\n",
    "* Establecer la característica que se desea estimar o la hipótesis que se desea contrastar.\n",
    "\n",
    "\n",
    "* Determinar la información (los datos) que se necesita para hacerlo.\n",
    "\n",
    "\n",
    "* Diseñar un experimento que permita recoger estos datos. Esto incluye\n",
    "\n",
    "    * Decidir qué tipo de muestra se va a tomar y su tamaño.\n",
    "    \n",
    "    * Elegir las técnicas adecuadas para realizar las inferencias deseadas a partir de la muestra que se tomará.\n",
    "    \n",
    "    \n",
    "\n",
    "* Tomar una muestra y medir los datos desados sobre los individuos que la forman.\n",
    "\n",
    "\n",
    "* Aplicar las técnicas de inferencia elegidas con el software adecuado.\n",
    "\n",
    "\n",
    "* Obtener conclusiones.\n",
    "\n",
    "\n",
    "* Si las conclusiones son fiables y suficientes, redactar un informe. En caso contrario, volver a empezar.\n",
    "\n"
   ]
  },
  {
   "cell_type": "markdown",
   "metadata": {},
   "source": [
    "## Muestreo aleatorio con y sin reposición\n",
    "\n",
    "**Muestreo aleatorio** consiste en seleccionar una muestra de la población de tal manera que todas las muestras del mismo tamaño tengan la misma probabilidad de selección. \n",
    "\n",
    "\n",
    "**Ejemplo 0.1:** Consideremos una población de 50000 peces. Queremos una muestra de tamaño 150, donde todos los peces sean diferentes. Existen $$\\binom{50000}{150}=\\frac{50000!}{150!(50000-150)!}$$ colecciones distintas formadas por 150 peces, todos distintos entre sí, capturados de una piscina que tiene 50000 peces.\n",
    "\n",
    "**Ejemplo 0.2:** Consideremos una población de 5 personas; digamos A, B, C, D y E. Queremos una muestra de tamaño 2. Entonces hay $$\\binom{5}{2}=\\frac{5!}{2!3!}=10$$ grupos posibles. A saber: {A,B}, {A,C}, {A,D}, {A,E}, {B,C}, {B,D}, {B,E}, {C,D}, {C,E} y {D,E}\n",
    "\n",
    "\n",
    "\n",
    "\n"
   ]
  },
  {
   "cell_type": "markdown",
   "metadata": {},
   "source": [
    "**Muestreo aleatorio con reposición**. También llamado muestreo aleatorio simple.\n",
    "\n",
    "<img src=\"mas.png\">"
   ]
  },
  {
   "attachments": {},
   "cell_type": "markdown",
   "metadata": {},
   "source": [
    "**Muestreo aleatorio sin reposición**.\n",
    "\n",
    "<img src=\"maconrepos.png\">"
   ]
  },
  {
   "cell_type": "markdown",
   "metadata": {},
   "source": [
    "Escoger las 15 pelotas una por una sin reposición **equivale** a escoger las 15 de uno solo golpe."
   ]
  },
  {
   "cell_type": "markdown",
   "metadata": {},
   "source": [
    "**Ejemplo 1**\n",
    "Consideremos una urna de 100 bolas numeradas del 1 al 100.\n",
    "\n",
    "Para simular un muestreo de 15 bolas con reposición en una urna de 100, en R haríamos ``sample(1:100,15,replace = TRUE)``\n",
    "\n",
    "Para simular un muestreo de 15 bolas sin reposición en una urna de 100, en R haríamos ``sample(1:100,15,replace = FALSE)``"
   ]
  },
  {
   "cell_type": "code",
   "execution_count": null,
   "metadata": {},
   "outputs": [],
   "source": [
    "sample(1:100,15,replace = TRUE)"
   ]
  },
  {
   "cell_type": "code",
   "execution_count": null,
   "metadata": {},
   "outputs": [],
   "source": [
    "set.seed(2020)\n",
    "\n",
    "set.seed(3)\n",
    "sample(1:100,15,replace = FALSE)"
   ]
  },
  {
   "cell_type": "markdown",
   "metadata": {},
   "source": [
    "**Ejemplo 2** Consideremos la tabla de datos ``iris`` que contiene 150 registros de flores pertenecientes a tres especies diferentes. La tabla contiene 5 campos: longitud y amplitud del pétalo; longitud y amplitud del sépalo y la especie de la flor.\n",
    "\n",
    "Extraigamos una muestra 10 flores con reposición:  ``iris[sample(1:150,10,replace = TRUE),]``.\n",
    "\n",
    "\n",
    "El procedimiento anterior, aunque es correcto, cambia cada vez que ejecutamos el sample. "
   ]
  },
  {
   "cell_type": "code",
   "execution_count": null,
   "metadata": {},
   "outputs": [],
   "source": [
    "set.seed(4)\n",
    "\n",
    "iris[sample(1:150,10,replace = TRUE),]\n"
   ]
  },
  {
   "cell_type": "markdown",
   "metadata": {},
   "source": [
    "*Observación* Se puede considerar que ambos muestreos son equivalentes si el tamaño de la población es muy grande respecto al de la muestra (por dar una regla, digamos que al menos unas 1000 veces mayor). Esto significa que si (tamaño de la población)/(tamaño de la muestra) es mas o menos 1000, entonces los dos muestreos son equivalentes."
   ]
  },
  {
   "cell_type": "markdown",
   "metadata": {},
   "source": [
    "## Muestreo sistemático\n",
    "\n",
    "Supongamos que los individuos de una población vienen dados por una lista ordenada. El **muestreo sistemático** consiste en tomarlos a intervalos constantes escogiendo al azar al primer individuo que elegimos.\n",
    "\n",
    "<img src=\"msist.png\">"
   ]
  },
  {
   "cell_type": "markdown",
   "metadata": {},
   "source": [
    "**Ejemplo 3** Vamos a calcular una muestra aleatoria sistemática de la tabla de datos iris de tamaño 10. Elegimos la primera flor a consultar: \n",
    "\n",
    "``primer_flor <- sample(1:150,1)``\n",
    "\n",
    "``incremento <- floor(150/10)``\n",
    "\n",
    "``muestra <- seq(from = primer_flor, by = incremento, length.out = 10 )``\n",
    "\n",
    "\n",
    "\n",
    "``iris[muestra,]``"
   ]
  },
  {
   "cell_type": "markdown",
   "metadata": {},
   "source": [
    "Sin embargo, se puede notar un error:"
   ]
  },
  {
   "cell_type": "code",
   "execution_count": null,
   "metadata": {},
   "outputs": [],
   "source": [
    "set.seed(4)\n",
    "\n",
    "primer_flor <- sample(1:150,1)\n",
    "\n",
    "incremento <- floor(150/10)\n",
    "\n",
    "muestra <- seq(from = primer_flor, by = incremento, length.out = 10 ) #seq(from=primer elemento, by=salto, length.out=longitud)\n",
    "\n",
    "iris[muestra,]"
   ]
  },
  {
   "cell_type": "code",
   "execution_count": null,
   "metadata": {},
   "outputs": [],
   "source": [
    "muestra"
   ]
  },
  {
   "cell_type": "code",
   "execution_count": null,
   "metadata": {},
   "outputs": [],
   "source": [
    "muestra[ muestra>150 ] <- muestra[ muestra>150 ] %% 150\n",
    "\n",
    "iris[muestra,]"
   ]
  },
  {
   "cell_type": "markdown",
   "metadata": {},
   "source": [
    "## Muestreo aleatorio estratificado\n",
    "\n",
    "Este tipo de muestreo se utiliza cuando la población está clasificada en *estratos* que son de interés para la propiedad estudiada. Se toma una muestra aleatoria de cada estrato y se unen en una muestra global. \n",
    "\n",
    "<img src=\"mestra.png\">"
   ]
  },
  {
   "cell_type": "markdown",
   "metadata": {},
   "source": [
    "**Ejemplo 4** Vamos a considerar que iris está, dividida en tres estratos: las especies. Cada estrato está formado por 50 flores de la misma especia. Hallemos una muestra de tamaño 12 hallando tres muestras de tamaño 4 por estrato y luego juntaremos las tres submuestras."
   ]
  },
  {
   "cell_type": "code",
   "execution_count": null,
   "metadata": {},
   "outputs": [],
   "source": [
    "set.seed(25)\n",
    "\n",
    "muestra_setosa <- sample(1:50,4,replace = TRUE)\n",
    "muestra_versicolor <- sample(51:100,4,replace = TRUE)\n",
    "muestra_virginica <- sample(101:150,4,replace = TRUE)\n",
    "\n",
    "muestra_estr <- rbind(iris[muestra_setosa,], iris[muestra_versicolor,], iris[muestra_virginica,])\n",
    "\n",
    "muestra_estr"
   ]
  },
  {
   "cell_type": "markdown",
   "metadata": {},
   "source": [
    "### Muestreo por conglomerados\n",
    "\n",
    "A veces no es posible obtener y estudiar una muestra aleatoria debido a que puede ser caro o díficil, incluso aunque dispongamos de una lista de la población completa.\n",
    "\n",
    "Una alternativa posible sería, en vez de extraer una muestra aleatoria de todos los individuos de la población, escoger al azar unos subconjuntos en los que la población esté dividida, a los que llamamos *conglomerados*.\n",
    "\n",
    "<img src=\"mconglo.png\">"
   ]
  },
  {
   "cell_type": "markdown",
   "metadata": {},
   "source": [
    "**Ejemplo 5** Consideremos la tabla de datos worldcup del paquete faraway. Esta tabla nos da la información sobre 595 jugadores que participaron en el Mundial de Futbol Sudáfrica 2010.\n",
    "\n",
    "Supongamos que queremos calcular una muestra de tamaño indeterminado de los jugadores por conglomerados eligiendo como conglomerados los países a los que estos pertenecen. \n",
    "\n",
    "Elegiremos 4 países al azar y la muestra elegida serán los jugadores de dichos países. "
   ]
  },
  {
   "cell_type": "markdown",
   "metadata": {},
   "source": [
    "### Muestreo Polietápico\n",
    "\n",
    "Si una vez seleccionada la muestra aleatoria por conglomerados, tomamos de alguna manera una muestra aleatoria de cada uno de ellos, estaremos realizando un muestreo *polietápico*.\n",
    "\n",
    "<img src=\"mpoli.png\">"
   ]
  },
  {
   "cell_type": "markdown",
   "metadata": {},
   "source": [
    "**Ejemplo 6** Para realizar un muestreo polietápico con los datos del ejemplo anterior (tabla de datos de worldcup) podemos elegir una submuestra de 5 jugadores para cada uno de los cuatro países escogidos, obteniendo una muestra final de tamaño 20 de todos los jugadores.\n",
    "\n",
    "\n",
    "\n"
   ]
  },
  {
   "cell_type": "markdown",
   "metadata": {},
   "source": [
    "### Resumen de sample()\n",
    "\n",
    "<img src=\"sample.png\">"
   ]
  },
  {
   "cell_type": "markdown",
   "metadata": {},
   "source": [
    "*Observación final* En el muestreo estratificado, la población está compuesta por estratos que son conjuntos cuyos elementos son muy similares entre sí, pero hay mucha diferencia entre un estrato y otro. En el muestreo por conglomerados, la población esta compuesta por conglomerados que son parecidos entre sí, pero los elementos dentro de cada conglomerado son muy distintos uno de otro.\n"
   ]
  }
 ],
 "metadata": {
  "kernelspec": {
   "display_name": "R",
   "language": "R",
   "name": "ir"
  },
  "language_info": {
   "codemirror_mode": "r",
   "file_extension": ".r",
   "mimetype": "text/x-r-source",
   "name": "R",
   "pygments_lexer": "r",
   "version": "3.6.1"
  }
 },
 "nbformat": 4,
 "nbformat_minor": 4
}
