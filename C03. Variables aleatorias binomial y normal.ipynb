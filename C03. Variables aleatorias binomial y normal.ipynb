{
 "cells": [
  {
   "cell_type": "markdown",
   "metadata": {},
   "source": [
    "<img src=\"logo.png\">"
   ]
  },
  {
   "cell_type": "markdown",
   "metadata": {},
   "source": [
    "# C03. Variables aleatorias binomial y normal"
   ]
  },
  {
   "cell_type": "markdown",
   "metadata": {},
   "source": [
    "## Variable aleatoria binomial\n",
    "\n",
    "Consideremos repeticiones independientes de un experimento aleatorio con dos posibles resultados a los cuales nos referiremos genéricamente como “éxito” y “fracaso”. \n",
    "\n",
    "**Básicamente, nos mide el total de éxitos cuando repetimos un experimento n veces**.\n",
    "\n",
    "\n",
    "El éxito ocurre con una probabilidad $p$  y el fracaso, por tanto, con una probabilidad $q = 1-p$.\n",
    "\n",
    "En este contexto, interesa estudiar el número de éxitos en estas repeticiones del experimento aleatorio y, para ello, se define la siguiente variable aleatoria,  $X =$ “Número de éxitos en $n$ ensayos independientes con probabilidad de éxito constante $p$ ”.\n",
    "\n",
    "Entonces decimos que $X$ sigue una distribución binomial de parámetros $n$ y $p$, y lo representamos como $X\\sim Bin(n,p)$.\n",
    "\n",
    "La distribución binomial es una distribución de probabilidad discreta, mide el número de éxitos en una secuencia de $n$ ensayos independientes, con una probabilidad fija $p$ de ocurrencia de éxitos entre los ensayos.\n",
    "\n",
    "Es evidente que los posibles valores que puede tomar la variable aleatoria (o, lo que es lo mismo, el número de ensayos exitosos de los que se realizan) son los valores comprendidos entre $0$ y $n$.\n",
    "\n",
    "La esperanza de una variable binomial siempre es $np$, en tanto que su varianza es $npq$.\n",
    "\n"
   ]
  },
  {
   "cell_type": "markdown",
   "metadata": {},
   "source": [
    "### Función de densidad\n",
    "\n",
    "Recordemos que la función de densidad de una variable aleatoria discreta viene dada por $f_X(x)=P(X=x)$. En nuestro caso, $f_X(x)$ representa la probabilidad de tener exactamente $x$ éxitos en $n$ repeticiones del experimento, donde las repeticiones son independientes. La fórmula general aquí es $$f_X(x)=\\binom{n}{x}p^xq^{n-x},$$ donde $\\binom{n}{x}=\\frac{n!}{x!(n-x)!}$ es el llamado coeficiente binomial.\n",
    "\n",
    "En R y RStudio, los valores de la función masa de probabilidad de una variable con distribución binomial se obtienen a través de la función *dbinom*, la cual necesita los siguientes argumentos:\n",
    "\n",
    " ``dbinom(x, size, prob)``\n",
    "\n",
    "donde:\n",
    "\n",
    "``x``: es el valor (o los valores) de la variable para el cual (o los cuales) queremos calcular la función masa de probabilidad\n",
    "``size`` y ``prob``: son los dos parámetros de la distribución binomial ($n$ y $p$, respectivamente). En caso de que el argumento  esté formado por dos o más valores, éstos vendrán concatenados mediante la función ``c(,)``.\n",
    "\n",
    "\n"
   ]
  },
  {
   "cell_type": "markdown",
   "metadata": {},
   "source": [
    "Por ejemplo: Si $X$ es una variable binomial con $n=10$ y probabilidad de éxito $p=0.4$, hallemos $P(X= 3)$"
   ]
  },
  {
   "cell_type": "code",
   "execution_count": 4,
   "metadata": {},
   "outputs": [
    {
     "data": {
      "text/html": [
       "0.214990848"
      ],
      "text/latex": [
       "0.214990848"
      ],
      "text/markdown": [
       "0.214990848"
      ],
      "text/plain": [
       "[1] 0.2149908"
      ]
     },
     "metadata": {},
     "output_type": "display_data"
    }
   ],
   "source": [
    "dbinom(3,10,0.4) # Está calculando P(X=3)"
   ]
  },
  {
   "cell_type": "markdown",
   "metadata": {},
   "source": [
    "## Función de distribución\n",
    "\n",
    "Recordemos que la función de distribución de una variable aleatoria viene dada por $F_X(x)=P(X\\le x)$. En nuestro caso, $F_X(x)$ representa la probabilidad de tener $x$ éxitos o menos en $n$ repeticiones del experimento, donde las repeticiones son independientes. La fórmula general aquí es $$F_X(x)=\\sum_{k=0}^x\\binom{n}{k}p^kq^{n-k}.$$\n",
    "\n",
    "Para calcular valores de la función de distribución de una distribución binomial con R y RStudio utilizaremos la función *pbinom*, que tiene los siguientes argumentos:\n",
    "\n",
    "``pbinom(y, size, prob)``\n",
    "\n",
    "siendo ``y`` el valor (o los valores) de la variable en el cual (o los cuales) queremos calcular la función de distribución y ``size`` y ``prob``, los parámetros de la distribución.\n",
    "\n"
   ]
  },
  {
   "cell_type": "code",
   "execution_count": 3,
   "metadata": {},
   "outputs": [
    {
     "data": {
      "text/html": [
       "0.3822806016"
      ],
      "text/latex": [
       "0.3822806016"
      ],
      "text/markdown": [
       "0.3822806016"
      ],
      "text/plain": [
       "[1] 0.3822806"
      ]
     },
     "metadata": {},
     "output_type": "display_data"
    }
   ],
   "source": [
    "pbinom(3,10,0.4) # Está calculando P(X=0)+P(X=1)+P(X=2)+P(X=3)"
   ]
  },
  {
   "cell_type": "markdown",
   "metadata": {},
   "source": [
    "## Cuantiles de la distribución binomial\n",
    "\n",
    "Por definición, el cuantil de orden $\\alpha$  de una distribución de probabilidad es aquel valor de la distribución que deja a su izquierda una proporción de valores $\\alpha$. Esto es, el cuantil de orden $\\alpha$, será aquel valor $k$  tal que\n",
    "$$P(X\\le k) = \\alpha$$\n",
    "\n",
    "Para calcular cuantiles de una distribución binomial en R y RStudio recurriremos a la función *qbinom*, que tiene los siguientes argumentos:\n",
    "\n",
    "``qbinom(α, size, prob)``\n",
    "\n",
    "siendo $\\alpha$ el orden del cuantil que queremos calcular (en tanto por uno) y, ``size`` y ``prob`` los dos parámetros que identifican a la distribución binomial.\n",
    "\n"
   ]
  },
  {
   "cell_type": "code",
   "execution_count": null,
   "metadata": {},
   "outputs": [],
   "source": [
    "qbinom(0.3822,10,0.4)"
   ]
  },
  {
   "cell_type": "markdown",
   "metadata": {},
   "source": [
    "## Generar valores aleatorios de la distribución binomial\n",
    "\n",
    "Por último, calcular muestras de valores aleatorios generados a partir de una distribución binomial. Esta opción puede resultar de mucho interés en experimentos de simulación en los que se conoce de antemano que la variable de interés sigue una distribución binomial. Para generar estos valores utilizamos la función *rbinom* de R, la cual requiere los siguientes argumentos:\n",
    "\n",
    "``rbinom(n, size, prob)``\n",
    "\n",
    "donde ``n`` es el número de valores aleatorios a generar y ``size`` y ``prob`` son los dos parámetros de la distribución.\n",
    "\n",
    "\n",
    "\n"
   ]
  },
  {
   "cell_type": "code",
   "execution_count": null,
   "metadata": {},
   "outputs": [],
   "source": [
    "rbinom(100,10,0.4)"
   ]
  },
  {
   "cell_type": "markdown",
   "metadata": {},
   "source": [
    "## Ejemplo 1\n",
    "\n",
    "Se ha comprobado que la probabilidad de que se funda la lámpara de un televisor en un mes es 0.02.  Si el televisor tiene 5 años. Se pide:\n",
    "\n",
    "a) Definir una variable aleatoria que cuente el número de roturas durante los cinco años. Identificar la distribución de probabilidad que sigue esta variable aleatoria\n",
    "\n",
    "b) Calcula la Esperanza y varianza de la variable aleatoria\n",
    "\n",
    "c) Calcular la probabilidad de que nunca se haya roto\n",
    "\n",
    "d) Calcular la probabilidad de que exactamente haya 5 roturas\n",
    "\n",
    "e) Obtener la probabilidad de que al menos haya 5 roturas\n",
    "\n",
    "f) Obtener la probabilidad de que haya entre 5 y 25 roturas (ambos inclusive)\n",
    "\n",
    "g) Calcular el valor de la variable tal que deja a su derecha el 32% de las observaciones. Esto equivale a pedir el número de errores que van a tener el 68% de los televisores.\n",
    "\n",
    "h) Generar una muestra de 30 valores aleatorios de esta distribución."
   ]
  },
  {
   "cell_type": "markdown",
   "metadata": {},
   "source": [
    "a) Sea $X=$\"número de veces que falló durante los cinco años\". Entonces $X\\sim Bin(60,0.02)$\n",
    "\n",
    "b) $E[X]=np=60\\cdot0.02=1.2$ y la varianza es $Var(X)=1.176$ (y por lo tanto $sd=1.08$)\n",
    "\n",
    "c) $P(X=0)$. Esto ya lo sabemos hacer con R. Se trata de ``dbinom(0,60,0.02)``. La respuesta es 0.2975\n",
    "\n",
    "d) $P(X=5)$. Esto ya lo sabemos hacer con R. Se trata de ``dbinom(5,60,0.02)``. La respuesta es 0.0057\n",
    "\n",
    "e) $P(X=5)+P(X=6)+P(X=7)+\\cdots=P(X\\ge 5)...(*)$. **Recordemos que A y B son eventos complementarios, entonces $P(B)=1-P(A)$**.\n",
    "Por lo tanto $P(X\\ge 5)=1-P(X<5)=1-P(X\\le 4)$ que en R significa ``1-pbinom(4,60,0.02)``. Esto es 0.0070\n",
    "\n",
    "*Observemos que lo anterior la el mismo resultado de haber hecho* ``1-pbinom(4,60,0.02)``\n",
    "\n",
    "``=1-(dbinom(0,60,0.02)+dbinom(1,60,0.02)+dbinom(2,60,0.02)+dbinom(3,60,0.02)+dbinom(4,60,0.02))``\n",
    "\n",
    "f) $P( 5\\le X \\le 25)...(**)$. **Recordemos ahora que $P(a\\le X\\le b)=P(X\\le b)-P(X< a)$**. En nuestro caso, en $(**)$ estamos buscando entonces $P(X\\le 25)-P(X<5)=P(X\\le 25)-P(X\\le4)=0.007$\n",
    "\n",
    "g) $P(X> k)=0.32$; esto es lo mismo que calcular $P(X\\le k)=0.68$. Esto significa ``qbinom(0.68,60,0.02)``, que es 2. \n"
   ]
  },
  {
   "cell_type": "markdown",
   "metadata": {},
   "source": [
    "## Ejemplo 2\n",
    "\n",
    "Respondemos al azar a un test de 8 preguntas, cada una de las cuales tiene 4 opciones (solo una de ellas es verdadera). Para aprobar necesitamos contestar correctamente al menos a 6 de ellas. ¿Cuál es la probabilidad de aprobar?. ¿Y la probabilidad de fallar las 8?."
   ]
  },
  {
   "cell_type": "markdown",
   "metadata": {},
   "source": [
    "Sea $X$ la variable aleatoria \"número de respuestas correctas\". Entonces $X\\sim Bin(n=8,p=0.25)$. Aprobar significa $P(X\\ge 6)=1-P(X<6)=1-P(X\\le 5)=0.0042$. La probabilidad de fallar todas es $P(X=0)$=dbinom(0,8,0.25)=0.1.\n",
    "\n",
    "De hecho espero tener $8\\cdot0.25=2$ bien."
   ]
  },
  {
   "cell_type": "markdown",
   "metadata": {},
   "source": [
    "Si de seis a siete de la tarde se admite que un número de teléfono de\n",
    "cada cinco está comunicando.\n",
    "\n",
    "¿Cuál es la probabilidad de que, cuando se marquen 10 números de\n",
    "teléfono elegidos al azar, sólo comuniquen dos?"
   ]
  },
  {
   "cell_type": "markdown",
   "metadata": {},
   "source": [
    "La probabilidad de que un artículo producido por una fabrica sea defectuoso es p = 0.02.\n",
    "\n",
    "Se envió un cargamento de 10.000 artículos a unos almacenes.\n",
    "\n",
    "Hallar el número esperado de artículos defectuosos, la varianza y la desviación típica."
   ]
  },
  {
   "cell_type": "markdown",
   "metadata": {},
   "source": [
    "Un laboratorio afirma que una droga causa efectos secundarios en una proporción de 3 de cada 100 pacientes.\n",
    "\n",
    "Para contrastar esta afirmación, otro laboratorio elige al azar a 5 pacientes a los que aplica la droga.\n",
    "\n",
    " \n",
    "\n",
    "¿Cuál es la probabilidad de los siguientes sucesos?\n",
    "\n",
    " \n",
    "\n",
    "1 Ningún paciente tenga efectos secundarios\n",
    "\n",
    " \n",
    "\n",
    "2 Al menos dos tengan efectos secundarios\n",
    "\n",
    " \n",
    "\n",
    "3 ¿Cuál es el número medio de pacientes que espera laboratorio que sufran efectos secundarios si elige 100 pacientes al azar?"
   ]
  },
  {
   "cell_type": "markdown",
   "metadata": {},
   "source": [
    "## Distribución Normal\n",
    "\n",
    "La distribución Normal es la más importante y de mayor uso de las distribuciones continuas, debido a la gran cantidad de fenómenos aleatorios que modeliza. Esta distribución también se conoce como gaussiana o de Gauss. La distribución Normal viene identificada por dos parámetros, $\\mu$ y $\\sigma$, que coinciden con la media y la desviación típica de la distribución. Cuando una variable aleatoria, $X$ , siga una distribución normal lo notaremos $X\\sim N(\\mu,\\sigma)$.\n",
    "\n",
    "Su función de distribución viene dada por $$F_X(x)=\\int_{-\\infty}^x \\frac{e^{-\\frac{(x-\\mu)^2}{2\\sigma^2}}}{\\sigma\\sqrt{2\\pi}}\\mathrm{d}x$$\n",
    "\n",
    "El tratamiento computacional con R y RStudio de la distribución Normal en particular, y de cualquier distribución de probabilidad continua en general, es similar al que se utiliza con las distribuciones discretas. La principal salvedad se encuentra en la función *dnorm*. Esta función es la equivalente para la distribución normal a *dbinom* y *dpois* en las distribuciones binomal y de Poisson, respectivamente. Recordemos que las funciones, *dbinom* y *dpois* devuelven la probabilidad puntual para cada uno de los valores posibles que puede tomar una variable con distribución binomial y de Poisson, respectivamente. Pero el cálculo de probabilidades en valores concretos en una distribución continua no tiene sentido, ya que dicha probabilidad vale 0. Por todo ello, dnorm devuelve el valor de la función de densidad en un punto (o puntos) determinado. Veamos cuáles son los argumentos de esta función:\n",
    "\n",
    "``dnorm(x, mean, sd)``\n",
    "\n",
    "siendo:\n",
    "\n",
    "``x``: es el valor (o los valores) de la variable para el cual (o los cuales) queremos calcular la función de densidad\n",
    "``mean``: es la media de la variable\n",
    "``sd``: la desviación típica de la variable.\n",
    "\n",
    "Por defecto, se considera una distribución Normal de media 0 y desviación típica 1, es decir, se considera una distribución Normal estándar o tipificada. De este modo, si al llamar a la función dnorm no especificamos ningún valor para la media y la desviación estándar, R considerará estos valores por defecto, por lo que estaremos calculando valores de la función de densidad en una normal de media 0 y desviación típica 1. En caso de estar trabajando con una distribución Normal con una media y/o desviación típica diferente, lo indicaremos a través de estos parámetros.\n",
    "\n",
    "Las funciones *pnorm*, *qnorm* y *rnorm* se comportan de forma similar a sus equivalentes para las variables discretas y devuelven valores de la función de distribución, cuantiles y valores aleatorios de una distribución normal, respectivamente. Sus argumentos son los siguientes:\n",
    "\n",
    "``pnorm(q, mean, sd)``\n",
    "\n",
    "``qnorm(p, mean, sd)``\n",
    "\n",
    "``rnorm(n, mean, sd)``\n",
    "\n",
    "siendo:\n",
    "\n",
    "``q``: el valor (o valores) para el cual (o los cuales) queremos calcular la función de distribución\n",
    "``p``: el orden del cuantil que queremos obtener\n",
    "``n``: el número de valores aleatorios a generar\n",
    "``mean`` y ``sd``: los dos parámetros que identifican a la distribución Normal.\n",
    "Vamos a aplicar todas estas funciones en un ejemplo concreto.\n",
    "\n"
   ]
  },
  {
   "cell_type": "markdown",
   "metadata": {},
   "source": [
    "### Ejemplo\n",
    "\n",
    "En unos estudios realizados a un determinado tipo de aves rapaces. Se comprueba que la longitud de las alas extendidas, X, es una variable aleatoria que se distribuye aproximadamente según una curva Normal, de media 110 cm. y desviación típica 4 cm. Elegida un ave al azar y suponiendo que las longitudes se distribuyen normalmente, calcular:\n",
    "\n",
    "a) La probabilidad de que la longitud de las alas esté comprendida entre 110 y 115 cm.\n",
    "\n",
    "b) La probabilidad de que la longitud de las alas sea mayor que 105 cm.\n",
    "\n",
    "c) La probabilidad de que la longitud de las alas sea menor de 100 cm.\n",
    "\n",
    "d) La longitud mínima  del 20% de las alas que más miden\n",
    "\n",
    "e) Quince longitudes aleatorias que sigan dicha distribución."
   ]
  }
 ],
 "metadata": {
  "kernelspec": {
   "display_name": "R",
   "language": "R",
   "name": "ir"
  },
  "language_info": {
   "codemirror_mode": "r",
   "file_extension": ".r",
   "mimetype": "text/x-r-source",
   "name": "R",
   "pygments_lexer": "r",
   "version": "3.6.1"
  }
 },
 "nbformat": 4,
 "nbformat_minor": 4
}
